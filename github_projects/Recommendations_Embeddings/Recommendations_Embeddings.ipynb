{
 "cells": [
  {
   "cell_type": "markdown",
   "id": "877c7384",
   "metadata": {},
   "source": [
    "# Retail Recommendations via AI-Based Embeddings Vector DB\n",
    "- Please note that the \"womens_clothing_e-commerce_reviews.csv\" file used is unavailable as this project was completed via an online course"
   ]
  },
  {
   "cell_type": "code",
   "execution_count": null,
   "id": "e7ce7107",
   "metadata": {},
   "outputs": [],
   "source": [
    "# Load the dataset\n",
    "import pandas as pd\n",
    "reviews = pd.read_csv(\"womens_clothing_e-commerce_reviews.csv\")\n",
    "\n",
    "# Display the first few entries\n",
    "reviews.head()"
   ]
  },
  {
   "cell_type": "code",
   "execution_count": null,
   "id": "268392cd",
   "metadata": {},
   "outputs": [],
   "source": [
    "# Cleaning the data\n",
    "\n",
    "reviews = reviews[reviews['Review Text'].notna()]                     # remove NaN\n",
    "reviews = reviews[reviews['Review Text'].astype(str).str.strip() != '']  # remove empty strings"
   ]
  },
  {
   "cell_type": "code",
   "execution_count": null,
   "id": "4e2388d4",
   "metadata": {},
   "outputs": [],
   "source": [
    "# Basic Embeddings Setup & OpenAI Call\n",
    "\n",
    "import os\n",
    "from openai import OpenAI\n",
    "# Define the model to use\n",
    "model = \"text-embedding-3-small\"\n",
    "# Define the client\n",
    "api_key = os.getenv(\"OPENAI_API_KEY\")\n",
    "client = OpenAI()\n",
    "\n",
    "# Create Embeddings Endpoint\n",
    "review_text = reviews['Review Text'].tolist()\n",
    "\n",
    "response = client.embeddings.create(\n",
    "    model=model,\n",
    "    input= review_text\n",
    ")"
   ]
  },
  {
   "cell_type": "code",
   "execution_count": null,
   "id": "a535dc7a",
   "metadata": {},
   "outputs": [],
   "source": [
    "# Dimensionality Reduction (t-SNE) - for the sole purpose of Visualization\n",
    "embeddings = [item.embedding for item in response.data]  \n",
    "\n",
    "from sklearn.manifold import TSNE\n",
    "import numpy as np\n",
    "\n",
    "# Transform into an array\n",
    "embeddings_array = np.array(embeddings)\n",
    "\n",
    "tsne = TSNE(n_components = 2, perplexity = 5)\n",
    "embeddings_2d = tsne.fit_transform(np.array(embeddings_array))"
   ]
  },
  {
   "cell_type": "code",
   "execution_count": null,
   "id": "30e241e5",
   "metadata": {},
   "outputs": [],
   "source": [
    "# Visualizing the embeddings\n",
    "\n",
    "import matplotlib.pyplot as plt\n",
    "\n",
    "plt.scatter(embeddings_2d[:,0], embeddings_2d[:,1])\n",
    "plt.show()"
   ]
  },
  {
   "cell_type": "code",
   "execution_count": null,
   "id": "42127662",
   "metadata": {},
   "outputs": [],
   "source": [
    "# Creating a \"Create Embeddings\" Function I can reuse:\n",
    "\n",
    "def create_embeddings(texts):\n",
    "    response = client.embeddings.create(\n",
    "        model = model,\n",
    "        input = texts\n",
    "    )\n",
    "    response_dict = response.model_dump()\n",
    "\n",
    "    return [data['embedding'] for data in response_dict['data']]"
   ]
  },
  {
   "cell_type": "code",
   "execution_count": null,
   "id": "56f49b96",
   "metadata": {},
   "outputs": [],
   "source": [
    "# Creating Topics for Classification\n",
    "# First create a dictionary of topics - product quality, comfort, style, price, sustainability, customer service\n",
    "topics = [\n",
    "     {'label': 'quality'},\n",
    "     {'label': 'comfort'},\n",
    "     {'label': 'style'},\n",
    "     {'label': 'price'},\n",
    "     {'label': 'sustainability'},\n",
    "     {'label': 'customer service'},\n",
    "]\n",
    "class_descriptions = [topic['label'] for topic in topics]\n",
    "class_embeddings = create_embeddings(class_descriptions)"
   ]
  },
  {
   "cell_type": "code",
   "execution_count": null,
   "id": "44383bc3",
   "metadata": {},
   "outputs": [],
   "source": [
    "# Computing Cosine Distances for all embeddings\n",
    "\n",
    "from scipy.spatial import distance\n",
    "\n",
    "# Single Comparison Function\n",
    "def find_closest(query_vector, embeddings):\n",
    "    distances = []\n",
    "    for index, embedding in enumerate(embeddings):\n",
    "        dist = distance.cosine(query_vector, embedding)\n",
    "        distances.append({\"distance\": dist, \"index\": index})\n",
    "    return min(distances, key = lambda x: x['distance'])\n",
    "\n",
    "# Looped over all my embeddings\n",
    "results = []\n",
    "for i, query_vec in enumerate(embeddings):  \n",
    "    closest = find_closest(query_vec, class_embeddings)\n",
    "    label = topics[closest[\"index\"]][\"label\"]       \n",
    "    results.append(label)"
   ]
  },
  {
   "cell_type": "code",
   "execution_count": null,
   "id": "ba26785a",
   "metadata": {},
   "outputs": [],
   "source": [
    "# Shelling out Three Reviews for Each Category\n",
    "\n",
    "def find_top_n_reviews(topic_vector, review_vectors, n=3):\n",
    "    \"\"\"\n",
    "    topic_vector: embedding of the topic\n",
    "    review_vectors: list of embeddings (one per review)\n",
    "    n: how many closest reviews to return\n",
    "    \"\"\"\n",
    "    distances = []\n",
    "    for i, review_vec in enumerate(review_vectors):\n",
    "        dist = distance.cosine(topic_vector, review_vec)\n",
    "        distances.append({\"index\": i, \"distance\": dist})\n",
    "    \n",
    "    distances = sorted(distances, key=lambda x: x[\"distance\"])\n",
    "    return distances[:n]  \n",
    "\n",
    "for i, topic in enumerate(topics):\n",
    "    topic_label = topic[\"label\"]\n",
    "    topic_vec = class_embeddings[i]   \n",
    "    top_reviews = find_top_n_reviews(topic_vec, vectors, n=3)\n",
    "    \n",
    "    print(f\"\\n Top 3 reviews for topic: {topic_label.upper()}\")\n",
    "    for rank, item in enumerate(top_reviews, start=1):\n",
    "        review_text = reviews.iloc[item[\"index\"]][\"Review Text\"]\n",
    "        print(f\"{rank}. {review_text.strip()}\")"
   ]
  },
  {
   "cell_type": "code",
   "execution_count": null,
   "id": "84415efe",
   "metadata": {},
   "outputs": [],
   "source": [
    "# Reusing the Above Function to Shell out Most Similar Reviews for a Given REVIEW\n",
    "\n",
    "most_similar = find_top_n_reviews(embeddings[0], embeddings, n=3)\n",
    "\n",
    "most_similar_reviews = [\n",
    "    reviews.iloc[item[\"index\"]][\"Review Text\"].strip()\n",
    "    for item in most_similar\n",
    "]"
   ]
  }
 ],
 "metadata": {
  "language_info": {
   "name": "python"
  }
 },
 "nbformat": 4,
 "nbformat_minor": 5
}
